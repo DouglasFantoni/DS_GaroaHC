{
 "cells": [
  {
   "cell_type": "markdown",
   "metadata": {},
   "source": [
    "###### Fonte dos dados:\n",
    "http://atlasbrasil.org.br/2013/  \n",
    "obs: não sei se essa fonte é a oficial"
   ]
  },
  {
   "cell_type": "markdown",
   "metadata": {},
   "source": [
    "###### Arquivos:\n",
    "Temos 3 tipos de arquivos:  \n",
    "  \n",
    "- dados brutos: aqueles que foram coletados direto da fonte, sem nenhum tratamento. São eles:  \n",
    "idh_uf.csv\t\tdados do idh por estado\n",
    "idh_mun.csv\t\tdados do idh por município\n",
    "idh_desc.csv\tdescrição dos campos  \n",
    "  \n",
    "  \n",
    "- notebooks: os notebooks que nos criamos (os notebooks que vcs salvarem, naturalmente, ficarao aqui):  \n",
    "edson_cleaner.ipynb  o notebook que foi utilizado para limpar/filtrar os dados do idh_mun.csv  \n",
    "  \n",
    "  \n",
    "- dados modificados: eventualmente pode ser util salvar algum resultado parcial. Nesse caso estamos salvando os dados limpos para ficar mais facil pra todo mundo carregar diretamente sem precisar limpar.  \n",
    "idh_clean.csv\tdados do idh, por município, ja filtrado varias colunas e transformado valores de texto para numeros  \n",
    "\n",
    "obs.: eventualmente é util salvar resultados. Por exemplo, quando foram feitos muitos calculos e queremos salvar os resultados parciais para continuar o trabalho outor dia. Salvamos para não precisar de tempo pra pra calcular de novo. Mas, no nosso caso, cujos calculos não tomam muito tempo, isso não é necessário."
   ]
  },
  {
   "cell_type": "markdown",
   "metadata": {},
   "source": [
    "Se alguem não sabe o que é o IDH (ou quiser tirar algumas duvidas) o atlas brasil tem um bom [faq](http://atlasbrasil.org.br/2013/pt/o_atlas/perguntas_frequentes/)."
   ]
  },
  {
   "cell_type": "markdown",
   "metadata": {},
   "source": [
    "###### Objetivos:\n",
    "(sujeito a modificações; favor colaborar com ideias)  \n",
    "Enviar o notebook e um html do mesmo para o repositório."
   ]
  },
  {
   "cell_type": "markdown",
   "metadata": {},
   "source": [
    "- listar quantos municípios tem na amostra"
   ]
  },
  {
   "cell_type": "markdown",
   "metadata": {},
   "source": [
    "- Descobrir qual o município tem o maior (e o menor) idh e população."
   ]
  },
  {
   "cell_type": "markdown",
   "metadata": {},
   "source": [
    "- Listar os cinco municípios com menos de 50k (50.000) habitantes que tem o maior IDH"
   ]
  },
  {
   "cell_type": "markdown",
   "metadata": {},
   "source": [
    "- Fazer 2 listas: uma com os 5% de municípios com maior idh; e outra com os municípios cujo idh esteja a 5% do maior idh possivel"
   ]
  },
  {
   "cell_type": "markdown",
   "metadata": {},
   "source": [
    "- sobre as duas listas do item anterior, pensar em uma (ou mais) aplicação pra cada."
   ]
  },
  {
   "cell_type": "markdown",
   "metadata": {},
   "source": [
    "- dividir os municípios entre pequenos (menos de 100k habitantes, médios (entre 100k e 500k habitantes) e grandes (+500k habitantes). Verificar qual das três categorias tem o maior IDH médio."
   ]
  },
  {
   "cell_type": "markdown",
   "metadata": {},
   "source": [
    "- plotar um gráfico da distribuição de frequencias do idh."
   ]
  },
  {
   "cell_type": "markdown",
   "metadata": {},
   "source": [
    "- plotar três gráficos de [dispersão](https://en.wikipedia.org/wiki/Scatter_plot) do idh: médio x educação, médio x longevidade e médio x renda"
   ]
  },
  {
   "cell_type": "markdown",
   "metadata": {},
   "source": [
    "- com os gráficos acima, intuitivamente, concluir qual dos tres (educação, longevidade ou renda) tem mais influencia no idh médio"
   ]
  },
  {
   "cell_type": "markdown",
   "metadata": {},
   "source": [
    "- calcular a correlação entre as tres parciais do idh e o idh médio. "
   ]
  }
 ],
 "metadata": {
  "kernelspec": {
   "display_name": "Python 3",
   "language": "python",
   "name": "python3"
  },
  "language_info": {
   "codemirror_mode": {
    "name": "ipython",
    "version": 3
   },
   "file_extension": ".py",
   "mimetype": "text/x-python",
   "name": "python",
   "nbconvert_exporter": "python",
   "pygments_lexer": "ipython3",
   "version": "3.6.6"
  }
 },
 "nbformat": 4,
 "nbformat_minor": 2
}
